{
 "cells": [
  {
   "cell_type": "code",
   "execution_count": 33,
   "metadata": {},
   "outputs": [],
   "source": [
    "import pandas as pd\n",
    "import matplotlib as plt\n",
    "\n",
    "from itertools import combinations\n",
    "from collections import Counter"
   ]
  },
  {
   "cell_type": "code",
   "execution_count": 34,
   "metadata": {},
   "outputs": [],
   "source": [
    "xls = pd.ExcelFile('./Coupon_Data_original.xlsx')\n",
    "coupon_data = pd.read_excel(xls, 'POS Data')\n",
    "product_names = pd.read_excel(xls, 'Product UPC Key')\n"
   ]
  },
  {
   "cell_type": "code",
   "execution_count": 35,
   "metadata": {},
   "outputs": [],
   "source": [
    "product_data = pd.merge(coupon_data,product_names,on='Product UPC Number')"
   ]
  },
  {
   "cell_type": "code",
   "execution_count": 36,
   "metadata": {},
   "outputs": [],
   "source": [
    "product_groups = product_data[product_data['Transaction Number'].duplicated(keep=False)]"
   ]
  },
  {
   "cell_type": "code",
   "execution_count": 37,
   "metadata": {},
   "outputs": [
    {
     "data": {
      "text/html": [
       "<div>\n",
       "<style scoped>\n",
       "    .dataframe tbody tr th:only-of-type {\n",
       "        vertical-align: middle;\n",
       "    }\n",
       "\n",
       "    .dataframe tbody tr th {\n",
       "        vertical-align: top;\n",
       "    }\n",
       "\n",
       "    .dataframe thead th {\n",
       "        text-align: right;\n",
       "    }\n",
       "</style>\n",
       "<table border=\"1\" class=\"dataframe\">\n",
       "  <thead>\n",
       "    <tr style=\"text-align: right;\">\n",
       "      <th></th>\n",
       "      <th>Timestamp</th>\n",
       "      <th>Transaction Number</th>\n",
       "      <th>Product UPC Number</th>\n",
       "      <th>Price</th>\n",
       "      <th>Retailer</th>\n",
       "      <th>Product Name</th>\n",
       "    </tr>\n",
       "  </thead>\n",
       "  <tbody>\n",
       "    <tr>\n",
       "      <th>0</th>\n",
       "      <td>2018-03-02 08:15:50.000</td>\n",
       "      <td>123098</td>\n",
       "      <td>111100001234</td>\n",
       "      <td>1.8</td>\n",
       "      <td>Fast Mart</td>\n",
       "      <td>Coke 20 oz</td>\n",
       "    </tr>\n",
       "    <tr>\n",
       "      <th>1</th>\n",
       "      <td>2018-03-02 08:27:03.920</td>\n",
       "      <td>123100</td>\n",
       "      <td>111100001234</td>\n",
       "      <td>1.8</td>\n",
       "      <td>Fast Mart</td>\n",
       "      <td>Coke 20 oz</td>\n",
       "    </tr>\n",
       "    <tr>\n",
       "      <th>2</th>\n",
       "      <td>2018-03-02 09:10:24.560</td>\n",
       "      <td>123106</td>\n",
       "      <td>111100001234</td>\n",
       "      <td>1.8</td>\n",
       "      <td>Fast Mart</td>\n",
       "      <td>Coke 20 oz</td>\n",
       "    </tr>\n",
       "    <tr>\n",
       "      <th>3</th>\n",
       "      <td>2018-03-02 10:43:26.000</td>\n",
       "      <td>123116</td>\n",
       "      <td>111100001234</td>\n",
       "      <td>1.8</td>\n",
       "      <td>Fast Mart</td>\n",
       "      <td>Coke 20 oz</td>\n",
       "    </tr>\n",
       "    <tr>\n",
       "      <th>5</th>\n",
       "      <td>2018-03-02 12:49:17.360</td>\n",
       "      <td>123134</td>\n",
       "      <td>111100001234</td>\n",
       "      <td>1.8</td>\n",
       "      <td>Fast Mart</td>\n",
       "      <td>Coke 20 oz</td>\n",
       "    </tr>\n",
       "  </tbody>\n",
       "</table>\n",
       "</div>"
      ],
      "text/plain": [
       "                Timestamp  Transaction Number  Product UPC Number  Price  \\\n",
       "0 2018-03-02 08:15:50.000              123098        111100001234    1.8   \n",
       "1 2018-03-02 08:27:03.920              123100        111100001234    1.8   \n",
       "2 2018-03-02 09:10:24.560              123106        111100001234    1.8   \n",
       "3 2018-03-02 10:43:26.000              123116        111100001234    1.8   \n",
       "5 2018-03-02 12:49:17.360              123134        111100001234    1.8   \n",
       "\n",
       "    Retailer Product Name  \n",
       "0  Fast Mart   Coke 20 oz  \n",
       "1  Fast Mart   Coke 20 oz  \n",
       "2  Fast Mart   Coke 20 oz  \n",
       "3  Fast Mart   Coke 20 oz  \n",
       "5  Fast Mart   Coke 20 oz  "
      ]
     },
     "execution_count": 37,
     "metadata": {},
     "output_type": "execute_result"
    }
   ],
   "source": [
    "product_groups.head()"
   ]
  },
  {
   "cell_type": "markdown",
   "metadata": {},
   "source": [
    "### Are there products that are more likely to be purchased together? If so, can you quantify this?"
   ]
  },
  {
   "cell_type": "code",
   "execution_count": 38,
   "metadata": {},
   "outputs": [
    {
     "name": "stderr",
     "output_type": "stream",
     "text": [
      "C:\\Users\\Madhulika\\Anaconda3\\lib\\site-packages\\ipykernel_launcher.py:1: SettingWithCopyWarning: \n",
      "A value is trying to be set on a copy of a slice from a DataFrame.\n",
      "Try using .loc[row_indexer,col_indexer] = value instead\n",
      "\n",
      "See the caveats in the documentation: http://pandas.pydata.org/pandas-docs/stable/indexing.html#indexing-view-versus-copy\n",
      "  \"\"\"Entry point for launching an IPython kernel.\n"
     ]
    }
   ],
   "source": [
    "product_groups['Grouped'] = product_groups.groupby('Transaction Number')['Product Name'].transform(lambda x: ','.join(x))"
   ]
  },
  {
   "cell_type": "code",
   "execution_count": 39,
   "metadata": {},
   "outputs": [],
   "source": [
    "product_groups = product_groups[['Transaction Number', 'Grouped']].drop_duplicates()"
   ]
  },
  {
   "cell_type": "code",
   "execution_count": 40,
   "metadata": {},
   "outputs": [
    {
     "data": {
      "text/plain": [
       "[(('Bud Light 24 Pack', 'Hersheys Candy'), 80),\n",
       " (('Slim Jim', 'Bud Light 24 Pack'), 78),\n",
       " (('Coke 12 Pack', 'Bud Light 24 Pack'), 67),\n",
       " (('Lays Chips 12 oz.', 'Bud Light 24 Pack'), 66),\n",
       " (('Doritos 12 oz.', 'Bud Light 24 Pack'), 61),\n",
       " (('Doritos 12 oz.', 'Lays Chips 12 oz.'), 61),\n",
       " (('Coke 12 Pack', 'Slim Jim'), 59),\n",
       " (('Slim Jim', 'Hersheys Candy'), 57),\n",
       " (('Coke 12 Pack', 'Lays Chips 12 oz.'), 55),\n",
       " (('Coke 12 Pack', 'Hersheys Candy'), 54)]"
      ]
     },
     "execution_count": 40,
     "metadata": {},
     "output_type": "execute_result"
    }
   ],
   "source": [
    "# Count the number of times product groups are bought.\n",
    "\n",
    "count = Counter()\n",
    "\n",
    "for row in product_groups['Grouped']:\n",
    "    row_list = row.split(',')\n",
    "    count.update(Counter(combinations(row_list, 2)))\n",
    "\n",
    "# Get 10 most commonly purchased product combinations.\n",
    "count.most_common(10)\n"
   ]
  }
 ],
 "metadata": {
  "kernelspec": {
   "display_name": "Python 3",
   "language": "python",
   "name": "python3"
  },
  "language_info": {
   "codemirror_mode": {
    "name": "ipython",
    "version": 3
   },
   "file_extension": ".py",
   "mimetype": "text/x-python",
   "name": "python",
   "nbconvert_exporter": "python",
   "pygments_lexer": "ipython3",
   "version": "3.7.0"
  }
 },
 "nbformat": 4,
 "nbformat_minor": 2
}
